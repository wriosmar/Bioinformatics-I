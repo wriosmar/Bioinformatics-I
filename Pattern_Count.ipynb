{
 "cells": [
  {
   "cell_type": "markdown",
   "source": [
    "# Pattern Count\r\n",
    "\r\n",
    "Pseudocode:\r\n",
    "\r\n",
    "``` \r\n",
    "PatternCount(Text, Pattern)\r\n",
    "    count = 0\r\n",
    "    for i = 0 to |Text| - |Pattern|\r\n",
    "        if Text(i, |Pattern|) = Pattern\r\n",
    "            count = count + 1\r\n",
    "    return count \r\n",
    "```"
   ],
   "metadata": {}
  },
  {
   "cell_type": "code",
   "execution_count": 29,
   "source": [
    "# A function that counts how many occurences of a pattern are in a text.\r\n",
    "def pattern_count(text, pattern):\r\n",
    "    count = 0\r\n",
    "    for i in range((len(text) + 1) - len(pattern)):\r\n",
    "        if text[i: (len(pattern) + i)] == pattern:\r\n",
    "            count = count + 1\r\n",
    "    return count"
   ],
   "outputs": [],
   "metadata": {}
  },
  {
   "cell_type": "markdown",
   "source": [
    "## Testing:"
   ],
   "metadata": {}
  },
  {
   "cell_type": "code",
   "execution_count": 30,
   "source": [
    "# Test 1: Base Case.\r\n",
    "text_1 = \"ACGTACGTACGT\"\r\n",
    "pattern_1 = \"CG\"\r\n",
    "print(pattern_count(text_1, pattern_1))"
   ],
   "outputs": [
    {
     "output_type": "stream",
     "name": "stdout",
     "text": [
      "3\n"
     ]
    }
   ],
   "metadata": {}
  },
  {
   "cell_type": "code",
   "execution_count": 31,
   "source": [
    "# Test 2: Tests occurence at beginning of text\r\n",
    "text_2 = \"AAAGAGTGTCTGATAGCAGCTTCTGAACTGGTTACCTGCCGTGAGTAAATTAAATTTTATTGACTTAGGTCACTAAATACTTTAACCAATATAGGCATAGCGCACAGACAGATAATAATTACAGAGTACACAACATCCAT\"\r\n",
    "pattern_2 = \"AAA\"\r\n",
    "print(pattern_count(text_2, pattern_2))"
   ],
   "outputs": [
    {
     "output_type": "stream",
     "name": "stdout",
     "text": [
      "4\n"
     ]
    }
   ],
   "metadata": {}
  },
  {
   "cell_type": "code",
   "execution_count": 32,
   "source": [
    "# Test 3: Tests occurence at end of text.\r\n",
    "text_3 = \"AGCGTGCCGAAATATGCCGCCAGACCTGCTGCGGTGGCCTCGCCGACTTCACGGATGCCAAGTGCATAGAGGAAGCGAGCAAAGGTGGTTTCTTTCGCTTTATCCAGCGCGTTAACCACGTTCTGTGCCGACTTT\"\r\n",
    "pattern_3 = \"TTT\"\r\n",
    "print(pattern_count(text_3, pattern_3))"
   ],
   "outputs": [
    {
     "output_type": "stream",
     "name": "stdout",
     "text": [
      "4\n"
     ]
    }
   ],
   "metadata": {}
  },
  {
   "cell_type": "code",
   "execution_count": 33,
   "source": [
    "# Test 4: Tests no reverse occurences are counted.\r\n",
    "text_4 = \"GGACTTACTGACGTACG\"\r\n",
    "pattern_4 = \"ACT\"\r\n",
    "print(pattern_count(text_4, pattern_4))"
   ],
   "outputs": [
    {
     "output_type": "stream",
     "name": "stdout",
     "text": [
      "2\n"
     ]
    }
   ],
   "metadata": {}
  },
  {
   "cell_type": "code",
   "execution_count": 34,
   "source": [
    "# Test 5: Tests overlapping occurences.\r\n",
    "text_5 = \"ATCCGATCCCATGCCCATG\"\r\n",
    "pattern_5 = \"CC\"\r\n",
    "print(pattern_count(text_5, pattern_5))"
   ],
   "outputs": [
    {
     "output_type": "stream",
     "name": "stdout",
     "text": [
      "5\n"
     ]
    }
   ],
   "metadata": {}
  },
  {
   "cell_type": "code",
   "execution_count": 35,
   "source": [
    "# Test 6: The full text.\r\n",
    "text_6 = \"CTGTTTTTGATCCATGATATGTTATCTCTCCGTCATCAGAAGAACAGTGACGGATCGCCCTCTCTCTTGGTCAGGCGACCGTTTGCCATAATGCCCATGCTTTCCAGCCAGCTCTCAAACTCCGGTGACTCGCGCAGGTTGAGTA\"\r\n",
    "pattern_6 = \"CTC\"\r\n",
    "print(pattern_count(text_6, pattern_6))"
   ],
   "outputs": [
    {
     "output_type": "stream",
     "name": "stdout",
     "text": [
      "9\n"
     ]
    }
   ],
   "metadata": {}
  },
  {
   "cell_type": "code",
   "execution_count": 36,
   "source": [
    "# Assignment Submission \r\n",
    "text = \"CTCTGGCGCCTGGCGCCTGGCGCGCTCTGGCGCTGGCTCTCACTGGCGCCTGGCGCGGTCTGGCGCCTGGCGCTTGTCCCCCTGGCGCCTGGCGCTCAAGCTGGCGCTATCTGGCGCTTGTGACTGGCGCTCAAACCGCTGGCGCAATGAAAGACTGGCGCTGCTCTGGCGCGCTGGCGCGAGCTGGCGCCTGGCGCGCTGGCGCCCCTGGCGCCTGGCGCCTGGCGCCTGGCGCTCCTGGCGCGCCTGGCGCCTGGCGCACGTGCTGGCGCGCTTTCTGGCGCCTGGCGCCGCTGGCGCACCTGGCGCCTGGCGCGCTGGCGCTCTGGCGCCCTGTCTCCTGGCGCTCTCCTGGCGCGACTGGCGCTACTGGCGCCTGGCGCGGCTGGCGCTACTCCTGGCGCTCACTGGCGCCTGGCGCGTCTACACTGCTGGCGCCAAGCTGGCGCCGGCAGCTGGCGCGACTGGCGCAATTATGACTGGCGCGCCTGGCGCCTGGCGCCTGGCGCCCTGGCGCTCTGGCGCGTTCCTGGCGCCGTTAGGGCTGGCGCAGATCTGGCGCGACCGAGCTGGCGCTGCTGGCGCTTCTGGCGCGGTCTGGCGCTCTGGCGCCCTGGCGCGCCTCATCCAACACTGGCGCAATGCCTGGCGCACATTTCTGGCGCGGTCTGGCGCTGCTGGCGCCACTGGCGCCTGGCGCCTGGCGCCTGGCGCCTGGCGCTCTGGCGCAGCGCTGGCGCCTGGCGCTCTGGCGCAGAGACCCTGGCGCCGCTGGCGCCGTAGCTGGCGCCTGGCGCACTGGCGCTAACTGGCGCCTGGCGCCTGGCGCGAACTGGCGCTCTGGCGCACTGGCGCGTCCCTGGCGCGTGTTATTTGACTGGCGCCTGGCGCCTGGCGCTGCTCCCTGGCGCCGTAGACCCTCTGGCGCAACACTGGCGCTACTGGCGCCTGGCGC\"\r\n",
    "pattern = \"CTGGCGCCT\"\r\n",
    "print(pattern_count(text, pattern))"
   ],
   "outputs": [
    {
     "output_type": "stream",
     "name": "stdout",
     "text": [
      "27\n"
     ]
    }
   ],
   "metadata": {}
  }
 ],
 "metadata": {
  "orig_nbformat": 4,
  "language_info": {
   "name": "python"
  }
 },
 "nbformat": 4,
 "nbformat_minor": 2
}