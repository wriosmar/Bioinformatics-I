{
 "cells": [
  {
   "cell_type": "markdown",
   "source": [
    "# Pattern Count"
   ],
   "metadata": {}
  },
  {
   "cell_type": "code",
   "execution_count": 5,
   "source": [
    "# A function that counts how many occurences of a pattern are in a text.\r\n",
    "def pattern_count(text, pattern):\r\n",
    "    count = 0\r\n",
    "    for i in range((len(text) + 1) - len(pattern)):\r\n",
    "        if text[i: (len(pattern) + i)] == pattern:\r\n",
    "            count = count + 1\r\n",
    "    return count"
   ],
   "outputs": [],
   "metadata": {}
  },
  {
   "cell_type": "markdown",
   "source": [
    "# Frequent Words Problem"
   ],
   "metadata": {}
  },
  {
   "cell_type": "code",
   "execution_count": 6,
   "source": [
    "# A function tht returns a list of the most frequent k-mers from a text.\r\n",
    "def frequent_words(text, k):\r\n",
    "    kmers = []\r\n",
    "    for i in range((len(text) + 1) - k):\r\n",
    "        if (text[i: (k + i)] in kmers) == False:\r\n",
    "            kmers.append(text[i: (k + i)])\r\n",
    "\r\n",
    "    counts = []\r\n",
    "    for j in kmers:\r\n",
    "        count = pattern_count(text, j)\r\n",
    "        counts.append(count)\r\n",
    "\r\n",
    "    max_kmers = []\r\n",
    "    index = 0;\r\n",
    "    for l in counts:\r\n",
    "        if l == max(counts):\r\n",
    "            max_kmers.append(kmers[index])\r\n",
    "        index += 1\r\n",
    "\r\n",
    "    return max_kmers"
   ],
   "outputs": [],
   "metadata": {}
  },
  {
   "cell_type": "code",
   "execution_count": null,
   "source": [],
   "outputs": [],
   "metadata": {}
  }
 ],
 "metadata": {
  "orig_nbformat": 4,
  "language_info": {
   "name": "python"
  }
 },
 "nbformat": 4,
 "nbformat_minor": 2
}