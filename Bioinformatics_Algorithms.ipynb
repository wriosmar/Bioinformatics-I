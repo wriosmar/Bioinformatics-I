{
 "cells": [
  {
   "cell_type": "markdown",
   "source": [
    "# Pattern Count"
   ],
   "metadata": {}
  },
  {
   "cell_type": "code",
   "execution_count": 4,
   "source": [
    "# A function that counts how many occurences of a pattern are in a text.\r\n",
    "def pattern_count(text, pattern):\r\n",
    "    count = 0\r\n",
    "    for i in range((len(text) + 1) - len(pattern)):\r\n",
    "        if text[i: (len(pattern) + i)] == pattern:\r\n",
    "            count = count + 1\r\n",
    "    return count"
   ],
   "outputs": [],
   "metadata": {}
  },
  {
   "cell_type": "markdown",
   "source": [
    "# Frequent Words Problem"
   ],
   "metadata": {}
  },
  {
   "cell_type": "code",
   "execution_count": 5,
   "source": [
    "# A function tht returns a list of the most frequent k-mers from a text.\r\n",
    "def frequent_words(text, k):\r\n",
    "    kmers = []\r\n",
    "    for i in range((len(text) + 1) - k):\r\n",
    "        if (text[i: (k + i)] in kmers) == False:\r\n",
    "            kmers.append(text[i: (k + i)])\r\n",
    "\r\n",
    "    counts = []\r\n",
    "    for j in kmers:\r\n",
    "        count = pattern_count(text, j)\r\n",
    "        counts.append(count)\r\n",
    "\r\n",
    "    max_kmers = []\r\n",
    "    index = 0;\r\n",
    "    for l in counts:\r\n",
    "        if l == max(counts):\r\n",
    "            max_kmers.append(kmers[index])\r\n",
    "        index += 1\r\n",
    "\r\n",
    "    return max_kmers"
   ],
   "outputs": [],
   "metadata": {}
  },
  {
   "cell_type": "markdown",
   "source": [
    "# Reverse Complement"
   ],
   "metadata": {}
  },
  {
   "cell_type": "code",
   "execution_count": 6,
   "source": [
    "# A function that takes the reverse complement of a given text.\r\n",
    "def reverse_complement(text):\r\n",
    "    reverse = text[::-1]\r\n",
    "    complement = \"\"\r\n",
    "\r\n",
    "    for i in reverse:\r\n",
    "        if i == \"A\":\r\n",
    "            char = \"T\"\r\n",
    "        if i == \"T\":\r\n",
    "            char = \"A\"\r\n",
    "        if i == \"C\":\r\n",
    "            char = \"G\"\r\n",
    "        if i == \"G\":\r\n",
    "            char = \"C\"\r\n",
    "        complement = complement + char\r\n",
    "\r\n",
    "    return complement"
   ],
   "outputs": [],
   "metadata": {}
  }
 ],
 "metadata": {
  "orig_nbformat": 4,
  "language_info": {
   "name": "python",
   "version": "3.9.6",
   "mimetype": "text/x-python",
   "codemirror_mode": {
    "name": "ipython",
    "version": 3
   },
   "pygments_lexer": "ipython3",
   "nbconvert_exporter": "python",
   "file_extension": ".py"
  },
  "kernelspec": {
   "name": "python3",
   "display_name": "Python 3.9.6 64-bit"
  },
  "interpreter": {
   "hash": "b7c5cb4cc4a541e302a9dc9b26493384a5656c188517063b4d63835629eabe55"
  }
 },
 "nbformat": 4,
 "nbformat_minor": 2
}