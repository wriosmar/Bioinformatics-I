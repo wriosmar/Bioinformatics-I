{
 "cells": [
  {
   "cell_type": "markdown",
   "source": [
    "# Frequent Words Problem\r\n",
    "\r\n",
    "Pseudocode:\r\n",
    "\r\n",
    "```\r\n",
    "FrequentWordsProblem(Text, k)\r\n",
    "    counts = 0 for all possible kmers\r\n",
    "    for i = 0 to |Text| - |Pattern|\r\n",
    "        kmer = Text(i,|Pattern|)\r\n",
    "        counts(kmer) = counts(kmer) + 1\r\n",
    "            count = count + 1\r\n",
    "    return all kmers where counts(kmer) = max(counts) \r\n",
    "```"
   ],
   "metadata": {}
  },
  {
   "cell_type": "code",
   "execution_count": 24,
   "source": [
    "# A function that counts how many occurences of a pattern are in a text.\r\n",
    "def pattern_count(text, pattern):\r\n",
    "    count = 0\r\n",
    "    for i in range((len(text) + 1) - len(pattern)):\r\n",
    "        if text[i: (len(pattern) + i)] == pattern:\r\n",
    "            count = count + 1\r\n",
    "    return count"
   ],
   "outputs": [],
   "metadata": {}
  },
  {
   "cell_type": "code",
   "execution_count": 25,
   "source": [
    "def frequent_words(text, k):\r\n",
    "    kmers = []\r\n",
    "    for i in range((len(text) + 1) - k):\r\n",
    "        if (text[i: (k + i)] in kmers) == False:\r\n",
    "            kmers.append(text[i: (k + i)])\r\n",
    "\r\n",
    "    counts = []\r\n",
    "    for j in kmers:\r\n",
    "        count = pattern_count(text, j)\r\n",
    "        counts.append(count)\r\n",
    "\r\n",
    "    max_kmers = []\r\n",
    "    index = 0;\r\n",
    "    for l in counts:\r\n",
    "        if l == max(counts):\r\n",
    "            max_kmers.append(kmers[index])\r\n",
    "        index += 1\r\n",
    "\r\n",
    "    return max_kmers"
   ],
   "outputs": [],
   "metadata": {}
  },
  {
   "cell_type": "code",
   "execution_count": 27,
   "source": [
    "print(frequent_words(\"CACGCTAGGGAATGCGGGAGTATGTGGAATGCGGGAGTATGTGTGAGCAGGAATGCGGAGGCGTACTGAGCAGGAATGCGGCACGCTAGGCACGCTAGGTGAGCAGTGAGCAGGAATGCGGGAATGCGGAGGCGTACGAATGCGGGAGTATGTGGAATGCGGAGGCGTACGAATGCGGTGAGCAGCACGCTAGGGAGTATGTGAGGCGTACGAATGCGGCACGCTAGGAGGCGTACTGAGCAGCACGCTAGGTGAGCAGTGAGCAGGAATGCGGCACGCTAGGGAATGCGGAGGCGTACGAATGCGGGAATGCGGCACGCTAGGTGAGCAGGAGTATGTGAGGCGTACAGGCGTACGAGTATGTGGAATGCGGGAGTATGTGAGGCGTACCACGCTAGGGAGTATGTGGAGTATGTGAGGCGTACGAATGCGGGAATGCGGAGGCGTACCACGCTAGGGAGTATGTGGAGTATGTGGAATGCGGTGAGCAGGAGTATGTGTGAGCAGCACGCTAGGAGGCGTACCACGCTAGGTGAGCAGTGAGCAGGAATGCGGGAATGCGGAGGCGTACGAATGCGGAGGCGTACGAGTATGTGGAGTATGTGAGGCGTACGAATGCGGGAGTATGTGAGGCGTACAGGCGTACAGGCGTACGAATGCGGGAGTATGTGGAATGCGGGAATGCGGCACGCTAGGCACGCTAGGCACGCTAGGAGGCGTACGAGTATGTGGAGTATGTGAGGCGTACAGGCGTACTGAGCAGTGAGCAGGAATGCGGTGAGCAGAGGCGTACGAGTATGTGGAATGCGGGAGTATGTGGAGTATGTG\", 11))"
   ],
   "outputs": [
    {
     "output_type": "stream",
     "name": "stdout",
     "text": [
      "['GAGTATGTGGA']\n"
     ]
    }
   ],
   "metadata": {}
  },
  {
   "cell_type": "code",
   "execution_count": null,
   "source": [],
   "outputs": [],
   "metadata": {}
  }
 ],
 "metadata": {
  "orig_nbformat": 4,
  "language_info": {
   "name": "python"
  }
 },
 "nbformat": 4,
 "nbformat_minor": 2
}